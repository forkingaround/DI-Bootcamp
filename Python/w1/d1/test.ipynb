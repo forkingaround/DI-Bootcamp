{
 "cells": [
  {
   "cell_type": "code",
   "execution_count": 10,
   "metadata": {},
   "outputs": [
    {
     "name": "stdout",
     "output_type": "stream",
     "text": [
      "hello world\n",
      "hello world\n",
      "hello world\n",
      "hello world\n",
      "\n",
      "7762392\n",
      "False\n",
      "True\n",
      "False\n",
      "False\n"
     ]
    },
    {
     "data": {
      "text/plain": [
       "'\\nCreate a variable called computer_brand which value is the brand name of your computer.\\nUsing the computer_brand variable print a sentence that states the following: \"I have a <computer_brand> computer\".\\n'"
      ]
     },
     "execution_count": 10,
     "metadata": {},
     "output_type": "execute_result"
    }
   ],
   "source": [
    "# Exercise 1 : Hello World\n",
    "\"\"\"\n",
    "Print the following output in one line of code:\n",
    "\n",
    "Hello world\n",
    "Hello world\n",
    "Hello world\n",
    "Hello world\n",
    "\"\"\"\n",
    "\n",
    "print(\"hello world\\n\"*4)\n",
    "\n",
    "\n",
    "\n",
    "# Exercise 2 : Some Math\n",
    "\"\"\"\n",
    "Write code that calculates the result of: (99^3) * 8\n",
    "(meaning 99 to the power of 3, times 8)\n",
    "\"\"\"\n",
    "\n",
    "print((99**3)*8)\n",
    "\n",
    "# Exercise 3 : What Is The Output ?\n",
    "\"\"\"\n",
    "Predict the output of the following code snippets:\n",
    "\"\"\"\n",
    "print(5 < 3) #false\n",
    "print(3 == 3) #true\n",
    "print(3 == \"3\") #false\n",
    "# print(\"3\" > 3) #false -- result is actually type error\n",
    "print(\"Hello\" == \"hello\") #false\n",
    "\n",
    "\n",
    "# Exercise 4 : Your Computer Brand\n",
    "\"\"\"\n",
    "1. Create a variable called computer_brand which value is the brand name of \n",
    "your computer.\n",
    "2. Using the computer_brand variable print a sentence that states the \n",
    "following: \"I have a <computer_brand> computer\".\n",
    "\"\"\"\n",
    "computer_brand = \"Lenovo\"\n",
    "print(f\"I have a {computer_brand} computer\")\n",
    "\n",
    "# Exercise 5: Your Information\n",
    "\"\"\"\n",
    "1. Create a variable called name, and set it’s value to your name.\n",
    "2. Create a variable called age, and set it’s value to your age.\n",
    "3. Create a variable called shoe_size, and set it’s value to your shoe size.\n",
    "4. Create a variable called info and set it’s value to an interesting sentence about yourself. The sentence must contain all the variables created in parts 1, 2 and 3.\n",
    "5. Have your code print the info message.\n",
    "6. Run your code\n",
    "\"\"\""
   ]
  }
 ],
 "metadata": {
  "kernelspec": {
   "display_name": "Python 3",
   "language": "python",
   "name": "python3"
  },
  "language_info": {
   "codemirror_mode": {
    "name": "ipython",
    "version": 3
   },
   "file_extension": ".py",
   "mimetype": "text/x-python",
   "name": "python",
   "nbconvert_exporter": "python",
   "pygments_lexer": "ipython3",
   "version": "3.11.3"
  },
  "orig_nbformat": 4
 },
 "nbformat": 4,
 "nbformat_minor": 2
}
